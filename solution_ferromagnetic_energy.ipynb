{
 "cells": [
  {
   "cell_type": "markdown",
   "id": "b698fd64-2a72-4c31-868c-dd8ada50e242",
   "metadata": {},
   "source": [
    "# Энергия ферромагнетика 2D (2023)"
   ]
  },
  {
   "cell_type": "markdown",
   "id": "fe9d5632-1d5c-428a-9b1d-5bcfdb58cb72",
   "metadata": {},
   "source": [
    "### Условие задачи\n",
    "\n",
    "**Дано:**\n",
    "- двумерная решетка молекул, расположенных в узлах кристаллической решетки, размеров $L_x \\times L_y$ с периодическими границами\n",
    "- каждая молекула обладает спином +1 или -1\n",
    "- межмолекулярное взаимодействие описывается константами $J_{ij} = 1$\n",
    "- модель Изинга\n",
    "\n",
    "\n",
    "**Требуется:**\n",
    "- согласно модели Изинга рассчитать нормированное значение средней энергии $\\frac{\\langle E \\rangle}{Lx Ly}$ для указанной решетки молекул при:\n",
    "    - размерах решетки $L_x \\in [2, 3, ..., 8]$, $L_y = 4$\n",
    "    - температурах $kT \\in [1.0, 5.0)$ с шагом $0.1$\n",
    "- сохранить массив средних энергий при помощи `np.save`\n",
    "- вывести время расчета каждой итерации по $Lx$ или по $k T$\n",
    "- отобразить цветовую карту:\n",
    "    - ось абсцисс - $L_x$,\n",
    "    - ось ординат - $k T$,\n",
    "    - цветом отобразить нормированное значение средней энергии $\\frac{\\langle E \\rangle}{Lx Ly}$,\n",
    "    - подписать оси,\n",
    "    - отобразить цветовую шкалу (`colorbar`),\n",
    "    - засечки должны соответствовать значениям $Lx, kT$.\n",
    "- к каждой функции добавить `docstring` с описанием того, что функция делает, всех параметров и возвращаемого значения    \n",
    "\n",
    "**Описание:**\n",
    "\n",
    "**Одномерный случай**\n",
    "\n",
    "Модель Изинга является моделью магнетика. Пусть этот магнетик состоит из молекул, расположенных в узлах регулярной решетки. Пусть всего таких узлов будет $N$ штук, с индексами $i=1,\\ldots, N$.\n",
    "\n",
    "Предположим, что каждая молекула может быть представлена в виде магнитной стрелки, которая всегда либо направлена вдоль некоторой заданной оси, либо в противоположном направлении. То есть каждая молекула $i$ имеет две конфигурации, которые можно описывать с помощью \"спиновой\" переменной $\\sigma_i$. Эта переменная принимает значение $+1$ (параллельно оси, спин направлен вверх) и $-1$ (антипараллельно оси, спин направлен вниз).\n",
    "\n",
    "Пусть $\\sigma = \\{\\sigma_1, \\sigma_2, \\ldots, \\sigma_N\\}$ обозначает набор значений всех $N$ спинов. Имеется $2^N$ различных наборов $\\sigma$, и каждый из них описывает некоторое состояние системы. \n",
    "\n",
    "Гамильтониан системы  состоит из двух частей: первая $E_0$ включает вклад межмолекулярных сил внутри магнетика, а вторая $E_1(\\sigma)$ вклад от взаимодействий каждого спина с внешним магнитным полем (здесь считается нулевым). \n",
    "$$H(\\sigma)=E_0(\\sigma)+E_1(\\sigma)$$\n",
    "\n",
    "В любой физической системе мы предполагаем все взаимодействия инвариантными по отношению к обращению времени, что означает инвариантность $E$ при изменении знаков всех полей и намагниченностей. Энергия должна быть четной функцией от $\\sigma$:\n",
    "$$E_0(\\sigma_1,\\ldots, \\sigma_N)=E_0(-\\sigma_1,\\ldots, -\\sigma_N)$$\n",
    "\n",
    "Энергия системы при нулевом внешнем магнитном поле равна сумме произведений **соседних** спинов на константы взаимодействия $J_{ij}$\n",
    "$$E(\\sigma) = -\\sum_{i} J_{i,i+1}\\sigma_{i}\\sigma_{i+1} $$\n",
    "\n",
    "Вероятность находиться в состоянии $\\sigma$\n",
    "$$P(\\sigma)=\\frac{e^{-\\beta E(\\sigma)}}{Z},$$\n",
    "\tгде $Z = \\sum_{\\sigma} e^{-\\beta E(\\sigma)}-$ статистическая сумма, $\\beta = \\frac{1}{k T}-$ обратная температура, $k-$ константа Больцмана.\n",
    "\t\n",
    "Средняя энергия системы \n",
    "$$\\langle E \\rangle = \\frac{1}{Z}\\sum_{\\{\\sigma \\}} E(\\sigma)e^{-\\frac{E(\\sigma)}{kT}}$$\n",
    "рассчитывается по всевозможным состояниям системы, т.е. всевозможным наборам $\\sigma$.\n",
    "\n",
    "**Двумерный случай**\n",
    "\n",
    "В случае двумерной решетки энергия системы при нулевом внешнем магнитном поле вычисляется следующим образом: \n",
    "$$E(\\sigma) = -\\sum_{i,j} J_{ij}(\\sigma_{i,j}\\sigma_{i+1,j} + \\sigma_{i,j}\\sigma_{i,j+1})$$\n",
    "\n",
    "\n",
    "**Проверка корректности результатов**\n",
    "\n",
    "Нормированное значение средней энергии при температурах $kT \\in [1.0, 5.0)$:\n",
    "\n",
    "- для $L_x=4$\n",
    "\n",
    "```\n",
    " -1.99715844 -1.99396091 -1.98856632 -1.98016965 -1.96786355 -1.95064256\n",
    " -1.9274244  -1.89711215 -1.85871667 -1.81153907 -1.75538029 -1.69071311\n",
    " -1.61874282 -1.54131149 -1.46065977 -1.37911648 -1.29880759 -1.22145424\n",
    " -1.14828469 -1.0800446  -1.01706963 -0.95938399 -0.90679838 -0.85899291\n",
    " -0.8155803  -0.77615005 -0.74029707 -0.70763857 -0.67782287 -0.65053286\n",
    " -0.62548613 -0.60243323 -0.58115501 -0.56145948 -0.5431787  -0.52616582\n",
    " -0.5102923  -0.49544555 -0.48152673 -0.46844889\n",
    "```\n",
    "\n",
    "- для $L_x=5$\n",
    "\n",
    "```\n",
    " -1.99715893 -1.99396296 -1.98857263 -1.98018387 -1.96788363 -1.95063964\n",
    " -1.92729692 -1.89661121 -1.85735639 -1.80853133 -1.74965024 -1.68103752\n",
    " -1.60399878 -1.52075577 -1.43412763 -1.3470633  -1.26219309 -1.18153361\n",
    " -1.10638872 -1.03740747 -0.97472647 -0.918132   -0.86720255 -0.82141645\n",
    " -0.78022445 -0.74309384 -0.70953215 -0.67909749 -0.65140075 -0.62610332\n",
    " -0.60291264 -0.58157686 -0.56187952 -0.54363452 -0.52668165 -0.51088271\n",
    " -0.49611811 -0.48228409 -0.46929029 -0.45705774\n",
    "```\n",
    "\n",
    "**Материалы:**\n",
    "- [Бэкстер Р., Вольский Е. П., Дайхин Л. И. Точно решаемые модели в статистической механике](https://yadi.sk/i/2oY4c0bL08pNiw)\n",
    "- [Пример хорошего `docstring`](https://github.com/numpy/numpy/blob/v1.21.0/numpy/linalg/linalg.py#L313-L395)\n",
    "- [Зиннуров Б.Д., Якименко В.Я. Магнитные свойства модели Изинга в низких размерностях (МКР)](https://miem.hse.ru/data/2018/05/24/1149431665/model_Izinga_-_Zinnurov_Yakimenko.pdf)\n",
    "\n",
    "\n",
    "**Правила оценивания:**\n",
    "\n",
    "- оценка за корректно выполненный расчет для количества молекул в цепочке $L_x$, баллов из 100:\n",
    "```\n",
    "    Lx    =   2,   3,   4,   5,    6,    7,     8\n",
    "    g(Lx) = 1.0, 1.8, 3.3, 6.4, 12.6, 24.9,  50.0\n",
    "```\n",
    "    \n",
    "- штрафы $p(i)$, баллов:\n",
    "    - не выведено время расчета - 20\n",
    "    - не выведены значения средней энергии - 20\n",
    "    - не построена карта - 20\n",
    "    - отсутствует `docstring` - 20\n",
    "    - менее значимые недоработки - 10\n",
    "\n",
    "\n",
    "- итоговая оценка за задание = $\\sum_{Lx=2}^{8}{g(Lx)} - \\sum_{i}{p(i)}$\n"
   ]
  },
  {
   "cell_type": "code",
   "execution_count": 1,
   "id": "voluntary-clearance",
   "metadata": {
    "ExecuteTime": {
     "end_time": "2023-12-17T16:49:36.941720200Z",
     "start_time": "2023-12-17T16:49:36.128441400Z"
    }
   },
   "outputs": [],
   "source": [
    "from functools import wraps\n",
    "import time\n",
    "from itertools import product\n",
    "import numpy as np\n",
    "from tqdm import tqdm\n",
    "import math\n",
    "from numba import njit, prange\n",
    "import matplotlib.pyplot as plt\n",
    "from typing import List"
   ]
  },
  {
   "cell_type": "code",
   "execution_count": 2,
   "id": "armed-jordan",
   "metadata": {
    "ExecuteTime": {
     "end_time": "2023-12-17T17:49:25.389287300Z",
     "start_time": "2023-12-17T17:49:25.374505700Z"
    }
   },
   "outputs": [],
   "source": [
    "@njit\n",
    "def matrix_energy( \n",
    "    matrix: np.ndarray, \n",
    "    lx: int, \n",
    "    ly: int\n",
    "    ) -> int: \n",
    "    \n",
    "    \"\"\"\n",
    "    Вычисляет энергию матрицы.\n",
    "\n",
    "    Параметры:\n",
    "        matrix (np.ndarray): Входная матрица.\n",
    "        lx (int): Число столбцов матрицы.\n",
    "        ly (int): Число строк матрицы.\n",
    "\n",
    "    Возвращает:\n",
    "        int: Вычисленная энергия матрицы.\n",
    "    \"\"\"\n",
    "    energy = 0\n",
    "\n",
    "    for y_idx in prange(ly):\n",
    "        for x_idx in prange(lx):\n",
    "            y_next = (y_idx + 1) % ly\n",
    "            x_next = (x_idx + 1) % lx\n",
    "\n",
    "            energy += 1 if matrix[y_idx][x_idx] == matrix[y_next][x_idx] else -1\n",
    "            energy += 1 if matrix[y_idx][x_idx] == matrix[y_idx][x_next] else -1\n",
    "    return -energy"
   ]
  },
  {
   "cell_type": "code",
   "execution_count": 3,
   "id": "handmade-spine",
   "metadata": {
    "ExecuteTime": {
     "end_time": "2023-12-17T17:49:25.774500500Z",
     "start_time": "2023-12-17T17:49:25.763320900Z"
    }
   },
   "outputs": [],
   "source": [
    "def get_energies_by_shape(\n",
    "        lx:int,\n",
    "        ly:int\n",
    "        ) -> List[int]:\n",
    "                          \n",
    "    \"\"\"\n",
    "    Генерирует энергии для всех возможных матриц заданного размера.\n",
    "\n",
    "    Параметры:\n",
    "        lx (int): Число строк в матрице.\n",
    "        ly (int): Число столбцов в матрице.\n",
    "\n",
    "    Возвращает:\n",
    "        List[int]: Список вычисленных энергий для всех возможных матриц заданного размера.\n",
    "    \"\"\"\n",
    "    \n",
    "    energies = []\n",
    "    rows = list(product([False, True], repeat=lx))\n",
    "    for i in tqdm(rows):\n",
    "        for j in rows:\n",
    "            for k in rows:\n",
    "                for l in rows[::2]:\n",
    "                    m = [np.array(i), np.array(j), np.array(k), np.array(l)]\n",
    "                    energies.append(matrix_energy(np.array(m), lx, ly))\n",
    "    del rows\n",
    "    return energies"
   ]
  },
  {
   "cell_type": "code",
   "execution_count": 4,
   "outputs": [],
   "source": [
    "@njit \n",
    "def calc_mean_energy_by_kt(\n",
    "        energies: List[float], \n",
    "        kt: float\n",
    "        )-> float:\n",
    "    \n",
    "    \"\"\"\n",
    "    Вычисляет среднюю энергию для заданных энергий и температуры.\n",
    "\n",
    "    Параметры:\n",
    "        energies (List[float]): Список энергий.\n",
    "        kt (float): Температура.\n",
    "\n",
    "    Возвращает:\n",
    "        float: Среднюю энергию.\n",
    "    \"\"\"\n",
    "    \n",
    "    b = 1 / kt\n",
    "    z = 0\n",
    "    result = 0\n",
    "    \n",
    "    for e in energies:\n",
    "        z += math.exp(-e * b)\n",
    "    \n",
    "    for e in energies:\n",
    "        result  += e * math.exp(-e * b) / z\n",
    "    \n",
    "    return round(result, 8)"
   ],
   "metadata": {
    "collapsed": false,
    "ExecuteTime": {
     "end_time": "2023-12-17T17:49:26.205933Z",
     "start_time": "2023-12-17T17:49:26.183947500Z"
    }
   },
   "id": "597d244823fdefe2"
  },
  {
   "cell_type": "code",
   "execution_count": 5,
   "outputs": [],
   "source": [
    "@njit(parallel=True)\n",
    "def calc_mean_energy_all_kt(\n",
    "        energies: List[float]\n",
    "        ):\n",
    "    \n",
    "    \"\"\"\n",
    "    Вычисляет среднюю нормализованную энергию для заданных энергий и всего диапазона температур.\n",
    "\n",
    "    Параметры:\n",
    "    - energies (List[float]): Список значений энергии.\n",
    "\n",
    "    Возвращает:\n",
    "    - np.ndarray: Массив, содержащий средние нормализованные значения энергии\n",
    "      для различных температур в заданном диапазоне.\n",
    "    \"\"\"\n",
    "    \n",
    "    values_mean_normalized = np.empty(40, dtype=np.float64)\n",
    "    kt_values = np.arange(1.0, 5.0, 0.1)\n",
    "    for i in prange(40):\n",
    "        values_mean_normalized[i] = calc_mean_energy_by_kt(energies, kt_values[i])\n",
    "    \n",
    "    return values_mean_normalized"
   ],
   "metadata": {
    "collapsed": false,
    "ExecuteTime": {
     "end_time": "2023-12-17T17:49:26.655553700Z",
     "start_time": "2023-12-17T17:49:26.621452700Z"
    }
   },
   "id": "e94c3895d603d870"
  },
  {
   "cell_type": "code",
   "execution_count": 7,
   "outputs": [
    {
     "name": "stderr",
     "output_type": "stream",
     "text": [
      "100%|██████████| 4/4 [00:00<00:00, 4016.57it/s]\n"
     ]
    },
    {
     "name": "stdout",
     "output_type": "stream",
     "text": [
      "Создание списка энергий для lx = 2:   \u001B[92m0.002991199493408203\u001B[0m\n",
      "Создание списка энергий по kt:   \u001B[92m0.0\u001B[0m\n",
      "\n"
     ]
    },
    {
     "name": "stderr",
     "output_type": "stream",
     "text": [
      "100%|██████████| 8/8 [00:00<00:00, 729.14it/s]\n"
     ]
    },
    {
     "name": "stdout",
     "output_type": "stream",
     "text": [
      "Создание списка энергий для lx = 3:   \u001B[92m0.013962745666503906\u001B[0m\n",
      "Создание списка энергий по kt:   \u001B[92m0.0009970664978027344\u001B[0m\n",
      "\n"
     ]
    },
    {
     "name": "stderr",
     "output_type": "stream",
     "text": [
      "100%|██████████| 16/16 [00:00<00:00, 114.96it/s]\n"
     ]
    },
    {
     "name": "stdout",
     "output_type": "stream",
     "text": [
      "Создание списка энергий для lx = 4:   \u001B[92m0.14116740226745605\u001B[0m\n",
      "Создание списка энергий по kt:   \u001B[92m0.002991199493408203\u001B[0m\n",
      "\n"
     ]
    },
    {
     "name": "stderr",
     "output_type": "stream",
     "text": [
      "100%|██████████| 32/32 [00:01<00:00, 18.14it/s]\n"
     ]
    },
    {
     "name": "stdout",
     "output_type": "stream",
     "text": [
      "Создание списка энергий для lx = 5:   \u001B[92m1.781303882598877\u001B[0m\n",
      "Создание списка энергий по kt:   \u001B[92m0.030916213989257812\u001B[0m\n",
      "\n"
     ]
    },
    {
     "name": "stderr",
     "output_type": "stream",
     "text": [
      "100%|██████████| 64/64 [00:29<00:00,  2.14it/s]\n"
     ]
    },
    {
     "name": "stdout",
     "output_type": "stream",
     "text": [
      "Создание списка энергий для lx = 6:   \u001B[92m30.16429853439331\u001B[0m\n",
      "Создание списка энергий по kt:   \u001B[92m0.4779787063598633\u001B[0m\n",
      "\n"
     ]
    },
    {
     "name": "stderr",
     "output_type": "stream",
     "text": [
      "100%|██████████| 128/128 [08:05<00:00,  3.80s/it]\n"
     ]
    },
    {
     "name": "stdout",
     "output_type": "stream",
     "text": [
      "Создание списка энергий для lx = 7:   \u001B[92m489.81752467155457\u001B[0m\n",
      "Создание списка энергий по kt:   \u001B[92m7.269002676010132\u001B[0m\n",
      "\n"
     ]
    },
    {
     "name": "stderr",
     "output_type": "stream",
     "text": [
      "100%|██████████| 256/256 [2:15:48<00:00, 31.83s/it]  \n"
     ]
    },
    {
     "name": "stdout",
     "output_type": "stream",
     "text": [
      "Создание списка энергий для lx = 8:   \u001B[92m8215.614854097366\u001B[0m\n",
      "Создание списка энергий по kt:   \u001B[92m117.13531136512756\u001B[0m\n",
      "\n"
     ]
    }
   ],
   "source": [
    "lx_kt = []\n",
    "ly = 4\n",
    "for lx in range(2, 9):\n",
    "    start = time.time()\n",
    "    energies = np.array(get_energies_by_shape(lx, ly), dtype=np.float64)\n",
    "    print(f'Создание списка энергий для lx = {lx}:', end='   ')\n",
    "    end = time.time()\n",
    "    execution_time = end - start\n",
    "    print('\\033[92m' + f'{execution_time}' + '\\033[0m')\n",
    "    print(f'Создание списка энергий по kt:', end='   ')\n",
    "    start_1 = time.time()\n",
    "    mean_energy = calc_mean_energy_all_kt(energies) / (lx * ly)\n",
    "    end_1 = time.time()\n",
    "    execution_time_1 = end_1 - start_1\n",
    "    print('\\033[92m' + f'{execution_time_1}' + '\\033[0m', end='\\n\\n')\n",
    "    np.save('row_values_for_lx_'+str(lx), mean_energy)\n",
    "    lx_kt.append(mean_energy)\n",
    "norm_mean_energies_matrix = np.array(lx_kt)\n",
    "np.save('matrix_values_of_mean', norm_mean_energies_matrix)"
   ],
   "metadata": {
    "collapsed": false,
    "ExecuteTime": {
     "end_time": "2023-12-17T17:50:16.156867400Z",
     "start_time": "2023-12-17T17:49:27.483426Z"
    }
   },
   "id": "9c6b21f2aa91ad09"
  },
  {
   "cell_type": "code",
   "execution_count": 8,
   "outputs": [],
   "source": [
    "norm_mean_energies_matrix = np.array(lx_kt)\n",
    "np.save('norm_mean_energies_matrix', norm_mean_energies_matrix)"
   ],
   "metadata": {
    "collapsed": false,
    "ExecuteTime": {
     "end_time": "2023-12-17T17:50:37.392090900Z",
     "start_time": "2023-12-17T17:50:37.383559400Z"
    }
   },
   "id": "bb8f7ecb442221b1"
  },
  {
   "cell_type": "code",
   "execution_count": 10,
   "outputs": [
    {
     "data": {
      "text/plain": "<Figure size 800x600 with 2 Axes>",
      "image/png": "[encoded data removed]"
     },
     "metadata": {},
     "output_type": "display_data"
    }
   ],
   "source": [
    "Data_for_matr_lx_tk = np.load('norm_mean_energies_matrix.npy')\n",
    "plt.figure(figsize=(8, 6))\n",
    "plt.title('Normalized Mean Energy Matrix', fontsize=16)\n",
    "plt.pcolormesh(Data_for_matr_lx_tk, cmap='viridis', edgecolor='k', linewidth=0)\n",
    "plt.colorbar(label='Normalized Mean Energy')\n",
    "plt.xlabel('kT', fontsize=14)\n",
    "plt.ylabel('Lx', fontsize=14)\n",
    "lx_ticks = np.arange(2, 9)\n",
    "tk_ticks = np.arange(10, 51, 5)\n",
    "plt.xticks(np.linspace(0, Data_for_matr_lx_tk.shape[1], 9) + 0.5, tk_ticks)\n",
    "plt.yticks(np.arange(Data_for_matr_lx_tk.shape[0]) + 0.5, lx_ticks)\n",
    "plt.show()"
   ],
   "metadata": {
    "collapsed": false,
    "ExecuteTime": {
     "end_time": "2023-12-17T17:50:43.211950800Z",
     "start_time": "2023-12-17T17:50:43.027200800Z"
    }
   },
   "id": "5b55a436e65f5eb3"
  },
  {
   "cell_type": "code",
   "execution_count": 11,
   "outputs": [
    {
     "name": "stdout",
     "output_type": "stream",
     "text": [
      "[-1.99715844 -1.99396091 -1.98856632 -1.98016965 -1.96786355 -1.95064256\n",
      " -1.92742441 -1.89711215 -1.85871667 -1.81153907 -1.75538029 -1.69071311\n",
      " -1.61874282 -1.54131149 -1.46065977 -1.37911648 -1.29880759 -1.22145424\n",
      " -1.14828469 -1.0800446  -1.01706963 -0.95938399 -0.90679838 -0.85899291\n",
      " -0.8155803  -0.77615005 -0.74029707 -0.70763857 -0.67782287 -0.65053286\n",
      " -0.62548613 -0.60243323 -0.58115501 -0.56145948 -0.5431787  -0.52616582\n",
      " -0.5102923  -0.49544555 -0.48152673 -0.46844889]\n"
     ]
    }
   ],
   "source": [
    "print(lx_kt[0])"
   ],
   "metadata": {
    "collapsed": false
   },
   "id": "e8c93fae47f3c6ba"
  },
  {
   "cell_type": "code",
   "execution_count": 12,
   "outputs": [
    {
     "name": "stdout",
     "output_type": "stream",
     "text": [
      "[-1.99715893 -1.99396296 -1.98857263 -1.98018387 -1.96788363 -1.95063964\n",
      " -1.92729692 -1.89661121 -1.85735639 -1.80853133 -1.74965024 -1.68103752\n",
      " -1.60399878 -1.52075577 -1.43412763 -1.3470633  -1.26219309 -1.18153361\n",
      " -1.10638872 -1.03740747 -0.97472647 -0.918132   -0.86720255 -0.82141645\n",
      " -0.78022445 -0.74309384 -0.70953215 -0.67909749 -0.65140075 -0.62610332\n",
      " -0.60291264 -0.58157686 -0.56187952 -0.54363452 -0.52668165 -0.51088271\n",
      " -0.49611811 -0.48228409 -0.46929029 -0.45705774]\n"
     ]
    }
   ],
   "source": [
    "print(lx_kt[1])"
   ],
   "metadata": {
    "collapsed": false
   },
   "id": "3603b8eb720212de"
  },
  {
   "cell_type": "code",
   "execution_count": 13,
   "outputs": [
    {
     "name": "stdout",
     "output_type": "stream",
     "text": [
      "[-1.99715857 -1.99396113 -1.9885651  -1.98015781 -1.96780519 -1.95042956\n",
      " -1.92678909 -1.89549406 -1.8551112  -1.80440326 -1.74270304 -1.67032538\n",
      " -1.58882722 -1.50092868 -1.41005807 -1.31969261 -1.23276666 -1.15134108\n",
      " -1.07656139 -1.00881115 -0.94793988 -0.8934793  -0.84480933 -0.8012682\n",
      " -0.76221687 -0.72707144 -0.69531564 -0.66650184 -0.6402464  -0.61622247\n",
      " -0.59415234 -0.57380002 -0.55496464 -0.53747479 -0.52118369 -0.50596511\n",
      " -0.49171009 -0.47832415 -0.46572503 -0.45384075]\n"
     ]
    }
   ],
   "source": [
    "print(lx_kt[2])"
   ],
   "metadata": {
    "collapsed": false
   },
   "id": "78d8e7db08754406"
  },
  {
   "cell_type": "code",
   "execution_count": 14,
   "outputs": [
    {
     "name": "stdout",
     "output_type": "stream",
     "text": [
      "[-1.9971582  -1.99395917 -1.98855691 -1.98012917 -1.96771861 -1.95019835\n",
      " -1.92623542 -1.89429394 -1.85274448 -1.80014859 -1.73572885 -1.65989967\n",
      " -1.57458935 -1.48308935 -1.38940408 -1.29738702 -1.21005576 -1.12930451\n",
      " -1.05597909 -0.99014354 -0.93137801 -0.87902058 -0.83233015 -0.79058107\n",
      " -0.75310988 -0.71933295 -0.68874798 -0.66092782 -0.63551132 -0.61219363\n",
      " -0.59071721 -0.57086391 -0.55244826 -0.53531194 -0.51931914 -0.50435283\n",
      " -0.49031168 -0.47710754 -0.46466335 -0.45291152]\n"
     ]
    }
   ],
   "source": [
    "print(lx_kt[3])"
   ],
   "metadata": {
    "collapsed": false
   },
   "id": "44ab676575ae991"
  },
  {
   "cell_type": "code",
   "execution_count": 17,
   "outputs": [
    {
     "name": "stdout",
     "output_type": "stream",
     "text": [
      "[-1.99715857 -1.99396113 -1.9885651  -1.98015781 -1.96780519 -1.95042956\n",
      " -1.92678909 -1.89549406 -1.8551112  -1.80440326 -1.74270304 -1.67032538\n",
      " -1.58882722 -1.50092868 -1.41005807 -1.31969261 -1.23276666 -1.15134108\n",
      " -1.07656139 -1.00881115 -0.94793988 -0.8934793  -0.84480933 -0.8012682\n",
      " -0.76221687 -0.72707144 -0.69531564 -0.66650184 -0.6402464  -0.61622247\n",
      " -0.59415234 -0.57380002 -0.55496464 -0.53747479 -0.52118369 -0.50596511\n",
      " -0.49171009 -0.47832415 -0.46572503 -0.45384075]\n"
     ]
    }
   ],
   "source": [
    "print(lx_kt[4])"
   ],
   "metadata": {
    "collapsed": false
   },
   "id": "a4439cff28f4a6c2"
  },
  {
   "cell_type": "code",
   "execution_count": 18,
   "outputs": [
    {
     "name": "stdout",
     "output_type": "stream",
     "text": [
      "[-1.9971582  -1.99395917 -1.98855691 -1.98012917 -1.96771861 -1.95019835\n",
      " -1.92623542 -1.89429394 -1.85274448 -1.80014859 -1.73572885 -1.65989967\n",
      " -1.57458935 -1.48308935 -1.38940408 -1.29738702 -1.21005576 -1.12930451\n",
      " -1.05597909 -0.99014354 -0.93137801 -0.87902058 -0.83233015 -0.79058107\n",
      " -0.75310988 -0.71933295 -0.68874798 -0.66092782 -0.63551132 -0.61219363\n",
      " -0.59071721 -0.57086391 -0.55244826 -0.53531194 -0.51931914 -0.50435283\n",
      " -0.49031168 -0.47710754 -0.46466335 -0.45291152]\n"
     ]
    }
   ],
   "source": [
    "print(lx_kt[5])"
   ],
   "metadata": {
    "collapsed": false
   },
   "id": "47e2188bf98d453c"
  },
  {
   "cell_type": "code",
   "execution_count": 19,
   "outputs": [
    {
     "name": "stdout",
     "output_type": "stream",
     "text": [
      "[-1.99715782 -1.99395721 -1.98854869 -1.98010037 -1.96763139 -1.94996517\n",
      " -1.9256775  -1.89308835 -1.85038376 -1.79595524 -1.72897966 -1.65006493\n",
      " -1.56159886 -1.46746088 -1.3721347  -1.2796628  -1.19294766 -1.11358151\n",
      " -1.04206613 -0.97817674 -0.92129527 -0.87064768 -0.82544473 -0.78495363\n",
      " -0.74852625 -0.7156046  -0.68571477 -0.65845691 -0.63349415 -0.61054232\n",
      " -0.58936109 -0.56974634 -0.55152389 -0.53454443 -0.51867942 -0.50381755\n",
      " -0.48986205 -0.47672838 -0.46434245 -0.45263888]\n"
     ]
    }
   ],
   "source": [
    "print(lx_kt[6])"
   ],
   "metadata": {
    "collapsed": false
   },
   "id": "4b681031f76006b8"
  },
  {
   "cell_type": "code",
   "execution_count": null,
   "outputs": [],
   "source": [],
   "metadata": {
    "collapsed": false
   }
  }
 ],
 "metadata": {
  "kernelspec": {
   "display_name": "Python 3 (ipykernel)",
   "language": "python",
   "name": "python3"
  },
  "language_info": {
   "codemirror_mode": {
    "name": "ipython",
    "version": 3
   },
   "file_extension": ".py",
   "mimetype": "text/x-python",
   "name": "python",
   "nbconvert_exporter": "python",
   "pygments_lexer": "ipython3",
   "version": "3.9.10"
  },
  "toc": {
   "base_numbering": 1,
   "nav_menu": {},
   "number_sections": true,
   "sideBar": true,
   "skip_h1_title": false,
   "title_cell": "Table of Contents",
   "title_sidebar": "Contents",
   "toc_cell": false,
   "toc_position": {},
   "toc_section_display": true,
   "toc_window_display": false
  },
  "varInspector": {
   "cols": {
    "lenName": 16,
    "lenType": 16,
    "lenVar": 40
   },
   "kernels_config": {
    "python": {
     "delete_cmd_postfix": "",
     "delete_cmd_prefix": "del ",
     "library": "var_list.py",
     "varRefreshCmd": "print(var_dic_list())"
    },
    "r": {
     "delete_cmd_postfix": ") ",
     "delete_cmd_prefix": "rm(",
     "library": "var_list.r",
     "varRefreshCmd": "cat(var_dic_list()) "
    }
   },
   "oldHeight": 528.515625,
   "position": {
    "height": "40px",
    "left": "1139.46875px",
    "right": "20px",
    "top": "57px",
    "width": "525.625px"
   },
   "types_to_exclude": [
    "module",
    "function",
    "builtin_function_or_method",
    "instance",
    "_Feature"
   ],
   "varInspector_section_display": "none",
   "window_display": true
  }
 },
 "nbformat": 4,
 "nbformat_minor": 5
}
